{
  "cells": [
    {
      "source": [
        "# A soccer pitch for an international match.\n",
        "\n",
        "As someone who enjoys playing soccer and has a keen interest in data analysis, this project explores the goal-scoring dynamics between men's and women's international soccer matches.\n",
        "\n",
        "The hypothesis I've set out to investigate is whether women's matches exhibit a higher goal-scoring rate compared to men's.\n",
        "\n",
        "To ensure the integrity of my analysis, I've chosen to focus exclusively on official FIFA World Cup matches since January 1, 2002. By narrowing the scope in this way, I aim to control for potential confounding factors and produce robust findings.\n",
        "\n",
        "For this project, I've datasets containing the results of every official men's and women's international football match dating back to the 19th century. These datasets, curated from reputable online sources, are stored in two CSV files: `women_results.csv` and `men_results.csv`.\n",
        "\n",
        "At the core of my investigation lies the central question:\n",
        "\n",
        "**Are more goals scored in women's international soccer matches compared to men's?**\n",
        "\n",
        "With a significance level of 10%, I've formulated the following null and alternative hypotheses:\n",
        "\n",
        "- **Null Hypothesis (H0)**: The mean number of goals scored in women's international soccer matches is equal to that of men's.\n",
        "- **Alternative Hypothesis (HA)**: The mean number of goals scored in women's international soccer matches is greater than that of men's.\n",
        "\n"
      ],
      "metadata": {
        "id": "3ed0edb2-696b-49ab-9db0-681defcce695"
      },
      "id": "3ed0edb2-696b-49ab-9db0-681defcce695",
      "cell_type": "markdown"
    },
    {
      "source": [
        "# URLs for the datasets\n",
        "mens_results_url = \"https://raw.githubusercontent.com/hasperjiga/Data_Analyst_Portfolio/main/men_results.csv\"\n",
        "womens_results_url = \"https://raw.githubusercontent.com/hasperjiga/Data_Analyst_Portfolio/main/women_results.csv\"\n",
        "\n",
        "# import libraries and data\n",
        "import numpy as np\n",
        "import pandas as pd\n",
        "!pip install pingouin\n",
        "import pingouin\n",
        "from scipy.stats import mannwhitneyu\n",
        "mens_results = pd.read_csv('/content/men_results.csv')\n",
        "womens_results = pd.read_csv('/content/women_results.csv')\n",
        "\n",
        "## preview the DataFrames\n",
        "print(mens_results.head())\n",
        "print(mens_results.info())\n",
        "print(womens_results.head())\n",
        "print(womens_results.info())"
      ],
      "metadata": {
        "executionCancelledAt": null,
        "executionTime": 98,
        "lastExecutedAt": 1714938948627,
        "lastExecutedByKernel": "93c5ac6c-37f5-4683-be76-e5f1a2ad1dfc",
        "lastScheduledRunId": null,
        "lastSuccessfullyExecutedCode": "# import libraries and data\nimport numpy as np\nimport pandas as pd\nmens_results = pd.read_csv('men_results.csv')\nwomens_results = pd.read_csv('women_results.csv')\n\n## preview the DataFrames\nprint(mens_results.head())\nprint(mens_results.info())\nprint(womens_results.head())\nprint(womens_results.info())",
        "outputsMetadata": {
          "0": {
            "height": 616,
            "type": "stream"
          }
        },
        "colab": {
          "base_uri": "https://localhost:8080/"
        },
        "id": "84a3c4c8-534b-4d1a-9919-17e05208b2ca",
        "outputId": "cc9783ba-4bb7-4820-e1c9-49611daaf6a0"
      },
      "id": "84a3c4c8-534b-4d1a-9919-17e05208b2ca",
      "cell_type": "code",
      "execution_count": null,
      "outputs": [
        {
          "output_type": "stream",
          "name": "stdout",
          "text": [
            "Requirement already satisfied: pingouin in /usr/local/lib/python3.10/dist-packages (0.5.4)\n",
            "Requirement already satisfied: numpy in /usr/local/lib/python3.10/dist-packages (from pingouin) (1.25.2)\n",
            "Requirement already satisfied: scipy in /usr/local/lib/python3.10/dist-packages (from pingouin) (1.11.4)\n",
            "Requirement already satisfied: pandas>=1.5 in /usr/local/lib/python3.10/dist-packages (from pingouin) (2.0.3)\n",
            "Requirement already satisfied: matplotlib in /usr/local/lib/python3.10/dist-packages (from pingouin) (3.7.1)\n",
            "Requirement already satisfied: seaborn in /usr/local/lib/python3.10/dist-packages (from pingouin) (0.13.1)\n",
            "Requirement already satisfied: statsmodels in /usr/local/lib/python3.10/dist-packages (from pingouin) (0.14.2)\n",
            "Requirement already satisfied: scikit-learn in /usr/local/lib/python3.10/dist-packages (from pingouin) (1.2.2)\n",
            "Requirement already satisfied: pandas-flavor in /usr/local/lib/python3.10/dist-packages (from pingouin) (0.6.0)\n",
            "Requirement already satisfied: tabulate in /usr/local/lib/python3.10/dist-packages (from pingouin) (0.9.0)\n",
            "Requirement already satisfied: python-dateutil>=2.8.2 in /usr/local/lib/python3.10/dist-packages (from pandas>=1.5->pingouin) (2.8.2)\n",
            "Requirement already satisfied: pytz>=2020.1 in /usr/local/lib/python3.10/dist-packages (from pandas>=1.5->pingouin) (2023.4)\n",
            "Requirement already satisfied: tzdata>=2022.1 in /usr/local/lib/python3.10/dist-packages (from pandas>=1.5->pingouin) (2024.1)\n",
            "Requirement already satisfied: contourpy>=1.0.1 in /usr/local/lib/python3.10/dist-packages (from matplotlib->pingouin) (1.2.1)\n",
            "Requirement already satisfied: cycler>=0.10 in /usr/local/lib/python3.10/dist-packages (from matplotlib->pingouin) (0.12.1)\n",
            "Requirement already satisfied: fonttools>=4.22.0 in /usr/local/lib/python3.10/dist-packages (from matplotlib->pingouin) (4.51.0)\n",
            "Requirement already satisfied: kiwisolver>=1.0.1 in /usr/local/lib/python3.10/dist-packages (from matplotlib->pingouin) (1.4.5)\n",
            "Requirement already satisfied: packaging>=20.0 in /usr/local/lib/python3.10/dist-packages (from matplotlib->pingouin) (24.0)\n",
            "Requirement already satisfied: pillow>=6.2.0 in /usr/local/lib/python3.10/dist-packages (from matplotlib->pingouin) (9.4.0)\n",
            "Requirement already satisfied: pyparsing>=2.3.1 in /usr/local/lib/python3.10/dist-packages (from matplotlib->pingouin) (3.1.2)\n",
            "Requirement already satisfied: xarray in /usr/local/lib/python3.10/dist-packages (from pandas-flavor->pingouin) (2023.7.0)\n",
            "Requirement already satisfied: joblib>=1.1.1 in /usr/local/lib/python3.10/dist-packages (from scikit-learn->pingouin) (1.4.0)\n",
            "Requirement already satisfied: threadpoolctl>=2.0.0 in /usr/local/lib/python3.10/dist-packages (from scikit-learn->pingouin) (3.5.0)\n",
            "Requirement already satisfied: patsy>=0.5.6 in /usr/local/lib/python3.10/dist-packages (from statsmodels->pingouin) (0.5.6)\n",
            "Requirement already satisfied: six in /usr/local/lib/python3.10/dist-packages (from patsy>=0.5.6->statsmodels->pingouin) (1.16.0)\n",
            "   Unnamed: 0        date home_team away_team  home_score  away_score  \\\n",
            "0           0  1872-11-30  Scotland   England           0           0   \n",
            "1           1  1873-03-08   England  Scotland           4           2   \n",
            "2           2  1874-03-07  Scotland   England           2           1   \n",
            "3           3  1875-03-06   England  Scotland           2           2   \n",
            "4           4  1876-03-04  Scotland   England           3           0   \n",
            "\n",
            "  tournament  \n",
            "0   Friendly  \n",
            "1   Friendly  \n",
            "2   Friendly  \n",
            "3   Friendly  \n",
            "4   Friendly  \n",
            "<class 'pandas.core.frame.DataFrame'>\n",
            "RangeIndex: 44353 entries, 0 to 44352\n",
            "Data columns (total 7 columns):\n",
            " #   Column      Non-Null Count  Dtype \n",
            "---  ------      --------------  ----- \n",
            " 0   Unnamed: 0  44353 non-null  int64 \n",
            " 1   date        44353 non-null  object\n",
            " 2   home_team   44353 non-null  object\n",
            " 3   away_team   44353 non-null  object\n",
            " 4   home_score  44353 non-null  int64 \n",
            " 5   away_score  44353 non-null  int64 \n",
            " 6   tournament  44353 non-null  object\n",
            "dtypes: int64(3), object(4)\n",
            "memory usage: 2.4+ MB\n",
            "None\n",
            "   Unnamed: 0        date home_team  away_team  home_score  away_score  \\\n",
            "0           0  1969-11-01     Italy     France           1           0   \n",
            "1           1  1969-11-01   Denmark    England           4           3   \n",
            "2           2  1969-11-02   England     France           2           0   \n",
            "3           3  1969-11-02     Italy    Denmark           3           1   \n",
            "4           4  1975-08-25  Thailand  Australia           3           2   \n",
            "\n",
            "         tournament  \n",
            "0              Euro  \n",
            "1              Euro  \n",
            "2              Euro  \n",
            "3              Euro  \n",
            "4  AFC Championship  \n",
            "<class 'pandas.core.frame.DataFrame'>\n",
            "RangeIndex: 4884 entries, 0 to 4883\n",
            "Data columns (total 7 columns):\n",
            " #   Column      Non-Null Count  Dtype \n",
            "---  ------      --------------  ----- \n",
            " 0   Unnamed: 0  4884 non-null   int64 \n",
            " 1   date        4884 non-null   object\n",
            " 2   home_team   4884 non-null   object\n",
            " 3   away_team   4884 non-null   object\n",
            " 4   home_score  4884 non-null   int64 \n",
            " 5   away_score  4884 non-null   int64 \n",
            " 6   tournament  4884 non-null   object\n",
            "dtypes: int64(3), object(4)\n",
            "memory usage: 267.2+ KB\n",
            "None\n"
          ]
        }
      ]
    },
    {
      "source": [
        "## Clean and Prepare the Data\n",
        "\n",
        "# Add a new column 'total_score' to each DataFrame by summing up 'home_score' and 'away_score'\n",
        "mens_results['total_score'] = mens_results['home_score'] + mens_results['away_score']\n",
        "womens_results['total_score'] = womens_results['home_score'] + womens_results['away_score']\n",
        "\n",
        "# Convert the 'date' column to datetime format for both DataFrames\n",
        "mens_results['date'] = pd.to_datetime(mens_results['date'])\n",
        "womens_results['date'] = pd.to_datetime(womens_results['date'])\n",
        "\n",
        "# Subset the data to include matches after 2002-01-01 and only FIFA World Cup matches\n",
        "mens_sub = mens_results[(mens_results['date'] > '2002-01-01') & mens_results['tournament'].isin(['FIFA World Cup'])]\n",
        "womens_sub = womens_results[(womens_results['date'] > '2002-01-01') & womens_results['tournament'].isin(['FIFA World Cup'])]\n"
      ],
      "metadata": {
        "executionCancelledAt": null,
        "executionTime": 47,
        "lastExecutedAt": 1714938948674,
        "lastExecutedByKernel": "93c5ac6c-37f5-4683-be76-e5f1a2ad1dfc",
        "lastScheduledRunId": null,
        "lastSuccessfullyExecutedCode": "## Clean and Prepare the Data\n## Add total score column to each DF\nmens_results['total_score'] = mens_results['home_score'] + mens_results['away_score']\nwomens_results['total_score'] = womens_results['home_score'] + womens_results['away_score']\n## Subset the data so it is for 2021-01-01 and Over\nmens_results['date'] = pd.to_datetime(mens_results['date'])\nwomens_results['date'] = pd.to_datetime(womens_results['date'])\nmens_sub = mens_results[(mens_results['date'] > '2002-01-01') & mens_results['tournament'].isin(['FIFA World Cup'])]\nwomens_sub = womens_results[(womens_results['date'] > '2002-01-01') & womens_results['tournament'].isin(['FIFA World Cup'])]\n",
        "outputsMetadata": {
          "0": {
            "height": 314,
            "type": "stream"
          }
        },
        "id": "b6620c01-90a5-4b0b-a357-6847b7e12b5b"
      },
      "cell_type": "code",
      "id": "b6620c01-90a5-4b0b-a357-6847b7e12b5b",
      "outputs": [],
      "execution_count": null
    },
    {
      "source": [
        "## Before calculating the P-Value, let's visualize the distributions\n",
        "\n",
        "# Importing visualization libraries\n",
        "import seaborn as sns\n",
        "import matplotlib.pyplot as plt\n",
        "\n",
        "# Plotting histogram for men's total score\n",
        "plt.figure(figsize=(6, 5))\n",
        "sns.histplot(mens_sub['total_score'], bins=15, color='blue')\n",
        "plt.title(\"Distribution of Total Scores in Men's FIFA World Cup Matches\")\n",
        "plt.xlabel(\"Total Goals Scored\")\n",
        "plt.ylabel(\"Frequency\")\n",
        "plt.show()\n",
        "plt.clf()  # Clearing the current figure to prepare for the next plot\n",
        "\n",
        "# Plotting histogram for women's total score\n",
        "plt.figure(figsize=(6, 5))\n",
        "sns.histplot(womens_sub['total_score'], bins=15, color='red')\n",
        "plt.title(\"Distribution of Total Scores in Women's FIFA World Cup Matches\")\n",
        "plt.xlabel(\"Total Goals Scored\")\n",
        "plt.ylabel(\"Frequency\")\n",
        "plt.show()\n",
        "plt.clf()  # Clearing the current figure\n"
      ],
      "metadata": {
        "executionCancelledAt": null,
        "executionTime": 456,
        "lastExecutedAt": 1714938949130,
        "lastExecutedByKernel": "93c5ac6c-37f5-4683-be76-e5f1a2ad1dfc",
        "lastScheduledRunId": null,
        "lastSuccessfullyExecutedCode": "## Before calculating the P-Value, lets visulaize the distributions\nimport seaborn as sns\nimport matplotlib.pyplot as plt\n\nmens_sub['total_score'].hist()\nplt.show()\nplt.clf()\nwomens_sub['total_score'].hist()\nplt.show()\nplt.clf()",
        "colab": {
          "base_uri": "https://localhost:8080/",
          "height": 992
        },
        "id": "1710306d-b084-4897-9274-bc5db58834df",
        "outputId": "9fc66b60-997c-43e6-b14b-c2c1afe16ab8"
      },
      "cell_type": "code",
      "id": "1710306d-b084-4897-9274-bc5db58834df",
      "outputs": [
        {
          "output_type": "display_data",
          "data": {
            "text/plain": [
              "<Figure size 600x500 with 1 Axes>"
            ],
            "image/png": "[encoded data removed]"
          },
          "metadata": {}
        },
        {
          "output_type": "display_data",
          "data": {
            "text/plain": [
              "<Figure size 640x480 with 0 Axes>"
            ]
          },
          "metadata": {}
        },
        {
          "output_type": "display_data",
          "data": {
            "text/plain": [
              "<Figure size 600x500 with 1 Axes>"
            ],
            "image/png": "[encoded data removed]"
          },
          "metadata": {}
        },
        {
          "output_type": "display_data",
          "data": {
            "text/plain": [
              "<Figure size 640x480 with 0 Axes>"
            ]
          },
          "metadata": {}
        }
      ],
      "execution_count": null
    },
    {
      "source": [
        "## Perform Wilcoxon-Mann-Whitney test to compare the mean number of goals scored between men's and women's FIFA World Cup matches\n",
        "\n",
        "# Adding a gender column to indicate whether the match is from men's or women's FIFA World Cup\n",
        "mens_sub['gender'] = 'men'\n",
        "womens_sub['gender'] = 'women'\n",
        "\n",
        "# Concatenating both datasets into a single dataframe\n",
        "both_sub = pd.concat([mens_sub, womens_sub], ignore_index=True)\n",
        "\n",
        "# Selecting relevant columns for analysis\n",
        "both_sub = both_sub[['total_score', 'gender']]\n",
        "\n",
        "# Making the dataframe wide to perform the Wilcoxon-Mann-Whitney test\n",
        "both_sub_wide = both_sub.pivot(columns='gender', values='total_score')\n",
        "\n",
        "# Performing the Wilcoxon-Mann-Whitney test with the pingouin library\n",
        "test = pingouin.mwu(x=both_sub_wide['women'], y=both_sub_wide['men'], alternative='greater')\n",
        "\n",
        "# Printing the test result\n",
        "print(test)\n"
      ],
      "metadata": {
        "executionCancelledAt": null,
        "executionTime": 56,
        "lastExecutedAt": 1714938949186,
        "lastExecutedByKernel": "93c5ac6c-37f5-4683-be76-e5f1a2ad1dfc",
        "lastScheduledRunId": null,
        "lastSuccessfullyExecutedCode": "## From the historgram, we can see that distribution is not normal, thus a non-parametric test is required\n## NULL HYPOTHESIS: The mean number of goals scored in women's international soccer matches is the same as men's.\n## ALT HYPOTHESIS: The mean number of goals scored in women's international soccer matches is greater than men's.\n## Right Tail test. To Calculate P-value we will use Wilcoxon-Mann-Whitney test with pingouin\n## alpha: 10%\n\n## import scipy and pinguoin\nimport pingouin\nfrom scipy.stats import mannwhitneyu\n\n## Must combine both tables and make them wide before performing Wilcoxon-Mann-Whitney test\nmens_sub['gender'] = 'men'\nwomens_sub['gender'] = 'women'\n\nboth_sub = pd.concat([mens_sub,womens_sub], ignore_index=True)\nboth_sub = both_sub[['total_score', 'gender']]\n\n##make the table wide\nboth_sub_wide = both_sub.pivot(columns='gender', values = 'total_score')\n\n## Preform Wilcoxon-Mann-Whitney test on wide table\ntest = pingouin.mwu(x=both_sub_wide['women'], y=both_sub_wide['men'], alternative = 'greater')\nprint (test)\n",
        "outputsMetadata": {
          "0": {
            "height": 59,
            "type": "stream"
          }
        },
        "colab": {
          "base_uri": "https://localhost:8080/"
        },
        "id": "6f53fe49-acaa-40e1-a98f-9db5256b4c1f",
        "outputId": "9cebf266-1abb-4b6d-c020-e445000d7e14"
      },
      "cell_type": "code",
      "id": "6f53fe49-acaa-40e1-a98f-9db5256b4c1f",
      "outputs": [
        {
          "output_type": "stream",
          "name": "stdout",
          "text": [
            "       U-val alternative     p-val       RBC      CLES\n",
            "MWU  43273.0     greater  0.005107 -0.126901  0.563451\n"
          ]
        },
        {
          "output_type": "stream",
          "name": "stderr",
          "text": [
            "<ipython-input-15-a5927afffb9b>:4: SettingWithCopyWarning: \n",
            "A value is trying to be set on a copy of a slice from a DataFrame.\n",
            "Try using .loc[row_indexer,col_indexer] = value instead\n",
            "\n",
            "See the caveats in the documentation: https://pandas.pydata.org/pandas-docs/stable/user_guide/indexing.html#returning-a-view-versus-a-copy\n",
            "  mens_sub['gender'] = 'men'\n",
            "<ipython-input-15-a5927afffb9b>:5: SettingWithCopyWarning: \n",
            "A value is trying to be set on a copy of a slice from a DataFrame.\n",
            "Try using .loc[row_indexer,col_indexer] = value instead\n",
            "\n",
            "See the caveats in the documentation: https://pandas.pydata.org/pandas-docs/stable/user_guide/indexing.html#returning-a-view-versus-a-copy\n",
            "  womens_sub['gender'] = 'women'\n"
          ]
        }
      ],
      "execution_count": null
    },
    {
      "source": [
        "## Extract P-Value from Wilcoxon-Mann-Whitney test and determine the test result\n",
        "\n",
        "# Extracting P-Value and defining the significance level\n",
        "p_val = test['p-val'][0]\n",
        "alpha = .1\n",
        "\n",
        "# Using an IF statement to check whether P-Value is greater than alpha and deciding whether to reject the null hypothesis\n",
        "if p_val > alpha:\n",
        "    result = 'fail to reject'\n",
        "else:\n",
        "    result = 'reject'\n",
        "\n",
        "# Creating a dictionary to store the P-Value and test result\n",
        "result_dict = {'p_val': p_val,\n",
        "               'result': result}\n",
        "\n",
        "# Printing the dictionary containing the P-Value and test result\n",
        "for key, value in result_dict.items():\n",
        "    print(key, \":\", value)"
      ],
      "metadata": {
        "executionCancelledAt": null,
        "executionTime": 48,
        "lastExecutedAt": 1714938949234,
        "lastExecutedByKernel": "93c5ac6c-37f5-4683-be76-e5f1a2ad1dfc",
        "lastScheduledRunId": null,
        "lastSuccessfullyExecutedCode": "## Extract P-Value from Wilcoxon-Mann-Whitney test and return results in a dict\np_val = test['p-val'][0]\nalpha = .1\n\n## IF statment to check whether P-Value is bigger or smaller than alpha and whether to reject null hypothesis\nif p_val > alpha:\n    result = 'fail to reject'\nelse:\n    result = 'reject'\n\nresult_dict = {'p_val' : p_val,\n          'result' : result}\n\nfor key, value in result_dict.items():\n    print(key, \":\", value)\n",
        "outputsMetadata": {
          "0": {
            "height": 59,
            "type": "stream"
          }
        },
        "colab": {
          "base_uri": "https://localhost:8080/"
        },
        "id": "0f0ec023-7393-4a19-9317-b00b96d05bba",
        "outputId": "3ac57e4a-7dea-4fec-b074-455ee06b2618"
      },
      "cell_type": "code",
      "id": "0f0ec023-7393-4a19-9317-b00b96d05bba",
      "outputs": [
        {
          "output_type": "stream",
          "name": "stdout",
          "text": [
            "p_val : 0.005106609825443641\n",
            "result : reject\n"
          ]
        }
      ],
      "execution_count": null
    }
  ],
  "metadata": {
    "colab": {
      "provenance": []
    },
    "kernelspec": {
      "display_name": "Python 3 (ipykernel)",
      "language": "python",
      "name": "python3"
    },
    "language_info": {
      "codemirror_mode": {
        "name": "ipython",
        "version": 3
      },
      "file_extension": ".py",
      "mimetype": "text/x-python",
      "name": "python",
      "nbconvert_exporter": "python",
      "pygments_lexer": "ipython3",
      "version": "3.8.10"
    }
  },
  "nbformat": 4,
  "nbformat_minor": 5
}

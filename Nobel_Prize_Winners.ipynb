{
  "cells": [
    {
      "source": [
        "## Nobel Prize Winner Analysis\n",
        "\n",
        "Welcome to the Nobel Prize Winner Analysis project! The Nobel Prize has been one of the most esteemed international awards since its inception in 1901. Each year, laureates are recognized for their outstanding contributions in various fields including chemistry, literature, physics, physiology or medicine, economics, and peace. Apart from the honor and substantial prize money, recipients are awarded a prestigious gold medal featuring the image of Alfred Nobel (1833 - 1896), the founder of the prize.\n",
        "\n",
        "For this project, we'll be exploring a dataset containing information about all Nobel Prize winners from 1901 to 2023. The dataset, sourced from the Nobel Prize API, is available in the `nobel.csv` file located in the `data` folder.\n",
        "\n",
        "Throughout this analysis, we'll delve into several questions related to the Nobel Prize winners' data. We encourage you to explore additional questions that pique your interest!\n"
      ],
      "metadata": {
        "id": "db5bd2ce-918a-4f7d-a927-a3ea74c4b456"
      },
      "id": "db5bd2ce-918a-4f7d-a927-a3ea74c4b456",
      "cell_type": "markdown"
    },
    {
      "source": [
        "# URL of the CSV file\n",
        "csv_url = \"https://raw.githubusercontent.com/hasperjiga/Data_Analyst_Portfolio/main/nobel.csv\"\n",
        "\n",
        "\n",
        "# Loading in required libraries\n",
        "import pandas as pd\n",
        "import seaborn as sns\n",
        "import numpy as np\n",
        "\n",
        "## Loading in data and previewing metadata\n",
        "nobel=pd.read_csv('/content/nobel.csv')\n",
        "print(nobel.info())\n"
      ],
      "metadata": {
        "executionCancelledAt": null,
        "executionTime": 28,
        "lastExecutedAt": 1714085529178,
        "lastExecutedByKernel": "cdd4da19-2c68-473c-b531-dfe5203d1fd8",
        "lastScheduledRunId": null,
        "lastSuccessfullyExecutedCode": "# Loading in required libraries\nimport pandas as pd\nimport seaborn as sns\nimport numpy as np\n\n# Start coding here!\nnobel=pd.read_csv('data/nobel.csv')\nprint(nobel.info())\n",
        "outputsMetadata": {
          "0": {
            "height": 569,
            "type": "stream"
          }
        },
        "id": "11fd5946-7bd1-495c-aa7f-ff6e7e4a350b",
        "outputId": "f9fed768-3d1a-422f-abba-ef2d6b82886f",
        "colab": {
          "base_uri": "https://localhost:8080/"
        }
      },
      "id": "11fd5946-7bd1-495c-aa7f-ff6e7e4a350b",
      "cell_type": "code",
      "execution_count": 3,
      "outputs": [
        {
          "output_type": "stream",
          "name": "stdout",
          "text": [
            "<class 'pandas.core.frame.DataFrame'>\n",
            "RangeIndex: 1000 entries, 0 to 999\n",
            "Data columns (total 18 columns):\n",
            " #   Column                Non-Null Count  Dtype \n",
            "---  ------                --------------  ----- \n",
            " 0   year                  1000 non-null   int64 \n",
            " 1   category              1000 non-null   object\n",
            " 2   prize                 1000 non-null   object\n",
            " 3   motivation            912 non-null    object\n",
            " 4   prize_share           1000 non-null   object\n",
            " 5   laureate_id           1000 non-null   int64 \n",
            " 6   laureate_type         1000 non-null   object\n",
            " 7   full_name             1000 non-null   object\n",
            " 8   birth_date            968 non-null    object\n",
            " 9   birth_city            964 non-null    object\n",
            " 10  birth_country         969 non-null    object\n",
            " 11  sex                   970 non-null    object\n",
            " 12  organization_name     736 non-null    object\n",
            " 13  organization_city     735 non-null    object\n",
            " 14  organization_country  735 non-null    object\n",
            " 15  death_date            596 non-null    object\n",
            " 16  death_city            579 non-null    object\n",
            " 17  death_country         585 non-null    object\n",
            "dtypes: int64(2), object(16)\n",
            "memory usage: 140.8+ KB\n",
            "None\n"
          ]
        }
      ]
    },
    {
      "source": [
        "## What is the most commonly awarded gender and birth country?\n",
        "\n",
        "# Counting the number of Nobel laureates by gender\n",
        "top_gender = nobel['sex'].value_counts().index[0]\n",
        "print('The gender with the most Nobel laureates is:', top_gender)\n",
        "\n",
        "# Counting the number of Nobel laureates by birth country\n",
        "top_country = nobel['birth_country'].value_counts().index[0]\n",
        "print('The country with the most Nobel laureates is:', top_country)\n",
        "\n"
      ],
      "metadata": {
        "executionCancelledAt": null,
        "executionTime": 58,
        "lastExecutedAt": 1714085529236,
        "lastExecutedByKernel": "cdd4da19-2c68-473c-b531-dfe5203d1fd8",
        "lastScheduledRunId": null,
        "lastSuccessfullyExecutedCode": "## What is the most commonly awarded gender and birth country?\n\ntop_gender = nobel['sex'].value_counts().index[0]\nprint('The gender with the most Nobel laureates is :', top_gender)\ntop_country= nobel['birth_country'].value_counts().index[0]\nprint('The country with most Nobel laureates is :', top_country)\n",
        "outputsMetadata": {
          "0": {
            "height": 59,
            "type": "stream"
          }
        },
        "id": "744839e8-e7fc-432b-82ac-66ffa1871133",
        "outputId": "26b487e6-7516-4db7-86ed-920111d553b3",
        "colab": {
          "base_uri": "https://localhost:8080/"
        }
      },
      "cell_type": "code",
      "id": "744839e8-e7fc-432b-82ac-66ffa1871133",
      "outputs": [
        {
          "output_type": "stream",
          "name": "stdout",
          "text": [
            "The gender with the most Nobel laureates is: Male\n",
            "The country with the most Nobel laureates is: United States of America\n"
          ]
        }
      ],
      "execution_count": 9
    },
    {
      "source": [
        "# Which decade had the highest ratio of US-born Nobel Prize winners to total winners in all categories?\n",
        "\n",
        "# Creating a new column 'decade' to represent the decade of each Nobel Prize win\n",
        "nobel['decade'] = (np.floor(nobel['year'] / 10) * 10).astype(int)\n",
        "\n",
        "# Creating a new column 'usborn' to identify whether a laureate was born in the United States\n",
        "nobel['usborn'] = nobel['birth_country'] == 'United States of America'\n",
        "\n",
        "# Grouping by decade and calculating the proportion of US-born winners for each decade\n",
        "prop_usa_winners = nobel.groupby('decade', as_index=False)['usborn'].mean()\n",
        "\n",
        "# Finding the decade with the highest proportion of US-born winners\n",
        "max_decade_usa = prop_usa_winners[prop_usa_winners['usborn'] == prop_usa_winners['usborn'].max()]['decade'].values[0]\n",
        "\n",
        "print('The decade with the highest ratio of US-born Nobel Prize winners was:', max_decade_usa)\n"
      ],
      "metadata": {
        "executionCancelledAt": null,
        "executionTime": 55,
        "lastExecutedAt": 1714085529291,
        "lastExecutedByKernel": "cdd4da19-2c68-473c-b531-dfe5203d1fd8",
        "lastScheduledRunId": null,
        "lastSuccessfullyExecutedCode": "## Which decade had the highest ratio of US-born Nobel Prize winners to total winners in all categories?\n\nnobel['decade'] = (np.floor(nobel['year'] / 10) * 10).astype(int)\nnobel['usborn']=nobel['birth_country']=='United States of America'\nprop_usa_winners = nobel.groupby('decade', as_index=False)['usborn'].mean()\nmax_decade_usa = prop_usa_winners[prop_usa_winners['usborn'] == prop_usa_winners['usborn'].max()]['decade'].values[0]\n\nprint('The decade with highest ratio of US-born Nobel prize winners was', max_decade_usa)\n                                                                \n",
        "outputsMetadata": {
          "0": {
            "height": 38,
            "type": "stream"
          }
        },
        "id": "106dad9a-0c70-4184-8b68-3b42b1e2eb0b",
        "outputId": "93154f60-acff-4d2d-fc8e-c600ca13d55c",
        "colab": {
          "base_uri": "https://localhost:8080/"
        }
      },
      "cell_type": "code",
      "id": "106dad9a-0c70-4184-8b68-3b42b1e2eb0b",
      "outputs": [
        {
          "output_type": "stream",
          "name": "stdout",
          "text": [
            "The decade with highest ratio of US-born Nobel prize winners was 2000\n"
          ]
        }
      ],
      "execution_count": 5
    },
    {
      "source": [
        "# Which decade and Nobel Prize category combination had the highest proportion of female laureates?\n",
        "\n",
        "# Creating a new column 'female' to identify whether a laureate is female\n",
        "nobel['female'] = nobel['sex'] == 'Female'\n",
        "\n",
        "# Grouping by decade and category and calculating the proportion of female laureates for each combination\n",
        "femaleratio = nobel.groupby(['decade', 'category'], as_index=False)['female'].mean()\n",
        "\n",
        "# Finding the decade and category with the highest proportion of female laureates\n",
        "max_female = femaleratio[femaleratio['female'] == femaleratio['female'].max()]\n",
        "\n",
        "# Creating a dictionary to store the decade and category combination with the highest proportion of female laureates\n",
        "max_female_dict = {max_female['decade'].values[0]: max_female['category'].values[0]}\n"
      ],
      "metadata": {
        "executionCancelledAt": null,
        "executionTime": 56,
        "lastExecutedAt": 1714085529347,
        "lastExecutedByKernel": "cdd4da19-2c68-473c-b531-dfe5203d1fd8",
        "lastScheduledRunId": null,
        "lastSuccessfullyExecutedCode": "##Which decade and Nobel Prize category combination had the highest proportion of female laureates?\n\nnobel['female'] = nobel['sex'] == 'Female'\nfemaleratio = nobel.groupby(['decade','category'], as_index=False)['female'].mean()\nmax_female = femaleratio[femaleratio['female'] == femaleratio['female'].max()]\nmax_female_dict={max_female['decade'].values[0] : max_female['category'].values[0]}",
        "outputsMetadata": {
          "0": {
            "height": 59,
            "type": "stream"
          }
        },
        "id": "1225c931-ce53-4f05-917f-3fe8a1b7ae60"
      },
      "cell_type": "code",
      "id": "1225c931-ce53-4f05-917f-3fe8a1b7ae60",
      "outputs": [],
      "execution_count": 12
    },
    {
      "source": [
        "# Who was the first woman to receive a Nobel Prize, and in what category?\n",
        "\n",
        "# Filtering the Nobel Prize winners to include only females\n",
        "fnobel = nobel[nobel['sex'] == 'Female']\n",
        "\n",
        "# Finding the first woman to receive a Nobel Prize and her category\n",
        "first_woman_name = fnobel[fnobel['year'] == fnobel['year'].min()]['full_name'].iloc[0]\n",
        "print('The first woman to receive a Nobel Prize is:', first_woman_name)\n",
        "\n",
        "first_woman_category = fnobel[fnobel['year'] == fnobel['year'].min()]['category'].iloc[0]\n",
        "print('The category for the first woman to receive a Nobel Prize is:', first_woman_category)\n"
      ],
      "metadata": {
        "executionCancelledAt": null,
        "executionTime": 52,
        "lastExecutedAt": 1714085529400,
        "lastExecutedByKernel": "cdd4da19-2c68-473c-b531-dfe5203d1fd8",
        "lastScheduledRunId": null,
        "lastSuccessfullyExecutedCode": "##Who was the first woman to receive a Nobel Prize, and in what category?\n\nfnobel=nobel[nobel['sex']=='Female']\nfirst_woman_name = fnobel[fnobel['year']==fnobel['year'].min()]['full_name'].iloc[0]\nprint('The first women to receive a Nobel Prize is', first_woman_name)\nfirst_woman_category=fnobel[fnobel['year']==fnobel['year'].min()]['category'].iloc[0]\nprint('The first category for a female to receive a Nobel Prize is', first_woman_category)\n",
        "outputsMetadata": {
          "0": {
            "height": 59,
            "type": "stream"
          }
        },
        "id": "b41dbfe7-2203-437b-9bd0-7ce901b1adc8",
        "outputId": "7f8c53e6-966c-41f6-fed0-d6fc627a1543",
        "colab": {
          "base_uri": "https://localhost:8080/"
        }
      },
      "cell_type": "code",
      "id": "b41dbfe7-2203-437b-9bd0-7ce901b1adc8",
      "outputs": [
        {
          "output_type": "stream",
          "name": "stdout",
          "text": [
            "The first woman to receive a Nobel Prize is: Marie Curie, née Sklodowska\n",
            "The category for the first woman to receive a Nobel Prize is: Physics\n"
          ]
        }
      ],
      "execution_count": 10
    },
    {
      "source": [
        "# Which individuals or organizations have won more than one Nobel Prize throughout the years?\n",
        "\n",
        "# Counting the number of Nobel Prizes won by each individual or organization\n",
        "count = nobel['full_name'].value_counts()\n",
        "\n",
        "# Creating a list of individuals or organizations that have won more than one Nobel Prize\n",
        "repeat_list = list(count[count > 1].index)\n",
        "\n",
        "# Printing the list of repeat Nobel Prize winners\n",
        "print('Individuals or organizations that have won more than one Nobel Prize:', repeat_list)\n"
      ],
      "metadata": {
        "executionCancelledAt": null,
        "executionTime": 52,
        "lastExecutedAt": 1714085529452,
        "lastExecutedByKernel": "cdd4da19-2c68-473c-b531-dfe5203d1fd8",
        "lastScheduledRunId": null,
        "lastSuccessfullyExecutedCode": "## Which individuals or organizations have won more than one Nobel Prize throughout the years?\ncount = nobel['full_name'].value_counts()\nrepeat_list= list(count[count>1].index)\nprint(repeat_list)",
        "outputsMetadata": {
          "0": {
            "height": 59,
            "type": "stream"
          }
        },
        "id": "20fdd059-2044-4757-85b6-9d4fa1c87456",
        "outputId": "1ec34bd7-e649-446f-c972-263681ae6ec4",
        "colab": {
          "base_uri": "https://localhost:8080/"
        }
      },
      "cell_type": "code",
      "id": "20fdd059-2044-4757-85b6-9d4fa1c87456",
      "outputs": [
        {
          "output_type": "stream",
          "name": "stdout",
          "text": [
            "Individuals or organizations that have won more than one Nobel Prize: ['Comité international de la Croix Rouge (International Committee of the Red Cross)', 'Linus Carl Pauling', 'John Bardeen', 'Frederick Sanger', 'Marie Curie, née Sklodowska', 'Office of the United Nations High Commissioner for Refugees (UNHCR)']\n"
          ]
        }
      ],
      "execution_count": 13
    }
  ],
  "metadata": {
    "language_info": {
      "name": "python",
      "version": "3.8.10",
      "mimetype": "text/x-python",
      "codemirror_mode": {
        "name": "ipython",
        "version": 3
      },
      "pygments_lexer": "ipython3",
      "nbconvert_exporter": "python",
      "file_extension": ".py"
    },
    "kernelspec": {
      "display_name": "Python 3 (ipykernel)",
      "language": "python",
      "name": "python3"
    },
    "editor": "DataCamp Workspace",
    "colab": {
      "provenance": []
    }
  },
  "nbformat": 4,
  "nbformat_minor": 5
}